{
 "cells": [
  {
   "cell_type": "code",
   "execution_count": 1,
   "metadata": {},
   "outputs": [],
   "source": [
    "import sys, getpass\n",
    "\n",
    "import pandas as pd\n",
    "import numpy as np\n",
    "\n",
    "sys.path.insert(0, '/home/jovyan/k8s-qiwidata/git_projects/ml')\n",
    "sys.path.insert(0, '/home/jovyan/k8s-qiwidata/git_projects/ml/scoring')\n",
    "from scoring_main_v2 import prepare_data_for_scoring, scoring_bank \n",
    "from prepare_data_for_scoring_v8 import ParquetCreator\n",
    "import utils_ml\n",
    "from qiwi_ml import cv_auto_iterations, base_cv\n",
    "from utils_spark import stop_and_init_spark_session\n",
    "\n",
    "sys.path.insert(0, '/home/jovyan/k8s-qiwidata/git_projects/ml/scoring_pipeline/customization_platform')\n",
    "import feature_collection"
   ]
  },
  {
   "cell_type": "code",
   "execution_count": 14,
   "metadata": {},
   "outputs": [],
   "source": [
    "import pyspark.sql.functions as F\n",
    "from pyspark.sql.window import Window"
   ]
  },
  {
   "cell_type": "code",
   "execution_count": 3,
   "metadata": {},
   "outputs": [
    {
     "data": {
      "text/html": [
       "\n",
       "            <div>\n",
       "                <p><b>SparkSession - hive</b></p>\n",
       "                \n",
       "        <div>\n",
       "            <p><b>SparkContext</b></p>\n",
       "\n",
       "            <p><a href=\"http://10.62.1.73:4041\">Spark UI</a></p>\n",
       "\n",
       "            <dl>\n",
       "              <dt>Version</dt>\n",
       "                <dd><code>v3.0.1</code></dd>\n",
       "              <dt>Master</dt>\n",
       "                <dd><code>local</code></dd>\n",
       "              <dt>AppName</dt>\n",
       "                <dd><code>pyspark-shell</code></dd>\n",
       "            </dl>\n",
       "        </div>\n",
       "        \n",
       "            </div>\n",
       "        "
      ],
      "text/plain": [
       "<pyspark.sql.session.SparkSession at 0x7f9ffdc75b70>"
      ]
     },
     "execution_count": 3,
     "metadata": {},
     "output_type": "execute_result"
    }
   ],
   "source": [
    "spark"
   ]
  },
  {
   "cell_type": "code",
   "execution_count": 6,
   "metadata": {},
   "outputs": [],
   "source": [
    "df = spark.read.csv(\"/user/vi.nechaeva/data.csv\", header=True)"
   ]
  },
  {
   "cell_type": "code",
   "execution_count": 16,
   "metadata": {},
   "outputs": [
    {
     "name": "stdout",
     "output_type": "stream",
     "text": [
      "+-----+-----------+-----------+--------+--------------------+\n",
      "|RowID|      Token|TokensInDoc|SumInDoc|                  TF|\n",
      "+-----+-----------+-----------+--------+--------------------+\n",
      "|    0|       room|          3|      87|0.034482758620689655|\n",
      "|    0|      night|          2|      87|0.022988505747126436|\n",
      "|    0|       took|          1|      87|0.011494252873563218|\n",
      "|    0|        bed|          1|      87|0.011494252873563218|\n",
      "|    0|      taken|          1|      87|0.011494252873563218|\n",
      "|    0|     people|          1|      87|0.011494252873563218|\n",
      "|    0|    staying|          1|      87|0.011494252873563218|\n",
      "|    0|      music|          1|      87|0.011494252873563218|\n",
      "|    0|       high|          1|      87|0.011494252873563218|\n",
      "|    0|        got|          1|      87|0.011494252873563218|\n",
      "|    0|      doors|          1|      87|0.011494252873563218|\n",
      "|    0|   products|          1|      87|0.011494252873563218|\n",
      "|    0|       woke|          1|      87|0.011494252873563218|\n",
      "|    0|   location|          1|      87|0.011494252873563218|\n",
      "|    0|        not|          2|      87|0.022988505747126436|\n",
      "|    0|   previous|          1|      87|0.011494252873563218|\n",
      "|    0|    pillows|          1|      87|0.011494252873563218|\n",
      "|    0|        did|          2|      87|0.022988505747126436|\n",
      "|    0|       deal|          1|      87|0.011494252873563218|\n",
      "|    0|anniversary|          1|      87|0.011494252873563218|\n",
      "+-----+-----------+-----------+--------+--------------------+\n",
      "only showing top 20 rows\n",
      "\n"
     ]
    }
   ],
   "source": [
    "# сколько раз встречается слово в каждом документе / кол-во слов в каждом документе\n",
    "# compute_TF\n",
    "compute_TF = df.select(['Review'])\\\n",
    ".withColumn('RowID', F.monotonically_increasing_id())\\\n",
    ".withColumn(\"Review\", F.lower(F.col(\"Review\")))\\\n",
    ".withColumn(\"Review\", F.regexp_replace(F.col(\"Review\"), \"[*|.|'|,]\", \"\"))\\\n",
    ".withColumn(\"Review\", F.split(F.col(\"Review\"),\" \"))\\\n",
    ".withColumn('Token', F.explode(F.col('Review')))\\\n",
    ".groupBy([F.col('RowID'), F.col('Token')])\\\n",
    ".agg({\"Token\": 'count'})\\\n",
    ".withColumnRenamed('count(Token)','TokensInDoc')\\\n",
    ".filter(F.col('Token') != '')\\\n",
    ".orderBy(F.col('RowID'))\\\n",
    ".withColumn(\"SumInDoc\", F.sum(F.col(\"TokensInDoc\")).over(Window.partitionBy(\"RowID\")))\\\n",
    ".withColumn('TF',F.col('TokensInDoc') / F.col('SumInDoc'))\n",
    "\n",
    "compute_TF.show()"
   ]
  },
  {
   "cell_type": "code",
   "execution_count": 29,
   "metadata": {},
   "outputs": [
    {
     "name": "stdout",
     "output_type": "stream",
     "text": [
      "+---------------+-------------+---------+------------------+\n",
      "|          Token|TokenInCorpus|Documents|               IDF|\n",
      "+---------------+-------------+---------+------------------+\n",
      "|         travel|         1330|    20491| 3.945492241506015|\n",
      "|         online|          317|    20491|  6.01436374175516|\n",
      "|          pools|          818|    20491| 4.646745738952818|\n",
      "|      traveling|          436|    20491|5.5545184471176405|\n",
      "|        jewelry|           56|    20491| 8.515347849836964|\n",
      "|          spoil|           59|    20491| 8.440059722532727|\n",
      "|        barrier|          163|    20491| 6.973974617663489|\n",
      "|      standards|          575|    20491|  5.15528462606283|\n",
      "|           jamb|            2|    20491|13.322702771894567|\n",
      "|           hope|          540|    20491| 5.245887174843737|\n",
      "|reconditionning|            1|    20491|14.322702771894567|\n",
      "|    handicapped|           24|    20491| 9.737740271173411|\n",
      "|            675|            1|    20491|14.322702771894567|\n",
      "|    formalities|            4|    20491|12.322702771894566|\n",
      "|       everyday|          513|    20491| 5.319887756287513|\n",
      "|     occidental|           64|    20491| 8.322702771894567|\n",
      "|      zzzzzzzzz|            1|    20491|14.322702771894567|\n",
      "|            art|          311|    20491| 6.041932001763964|\n",
      "|      closerthe|            3|    20491|12.737740271173411|\n",
      "|       crawlies|            1|    20491|14.322702771894567|\n",
      "+---------------+-------------+---------+------------------+\n",
      "only showing top 20 rows\n",
      "\n"
     ]
    }
   ],
   "source": [
    "# логарифм ( кол-во документов / кол-во слов в корпусе)\n",
    "compute_IDF = compute_TF\\\n",
    ".groupby('Token')\\\n",
    ".agg({'RowID': 'count'})\\\n",
    ".withColumnRenamed('count(RowID)','TokenInCorpus')\\\n",
    ".withColumn('Documents', F.lit(df.count()))\\\n",
    ".withColumn('IDF', F.log2(F.col('Documents') / F.col('TokenInCorpus')))\n",
    "\n",
    "# compute_IDF.show()# логарифм ( кол-во документов / кол-во слов в корпусе)"
   ]
  },
  {
   "cell_type": "code",
   "execution_count": 31,
   "metadata": {},
   "outputs": [],
   "source": [
    "tf_idf = compute_TF\\\n",
    ".join(compute_IDF, on='Token', how='right')\\\n",
    ".na.drop()\\\n",
    ".withColumn('TFIDF', F.col('TF') * F.col('IDF'))\\\n",
    ".select(['Token', 'RowID', 'TFIDF'])\\\n",
    ".orderBy(F.col('TFIDF').desc())\\\n",
    ".limit(100)\n"
   ]
  },
  {
   "cell_type": "code",
   "execution_count": 32,
   "metadata": {},
   "outputs": [
    {
     "name": "stdout",
     "output_type": "stream",
     "text": [
      "+------------+----+----+-----------------+----+----+----+----+----+----+------------------+----+------------------+------------------+------------------+----+----+------------------+----+----+------------------+----+----+----+-----------------+------------------+----+----+----+----+----+----+----+----+----+----+----+------------------+----+----+----+----+-----+-----+-----+-----------------+------------------+-----+-----+-----+------------------+-----+------------------+-----+-----+-----------------+-----+-----+-----+------------------+-----+-----+-----+-----+------------------+-----------------+-----+-----+-----+-----+-----+-----+-----+------------------+-----+------------------+-----+-----+-----+-----+-----+-----+-----+-----+-----+\n",
      "|       Token|  69| 217|              480| 527| 936|1096|1188|1501|1566|              1881|2419|              2473|              2536|              2687|3355|4164|              4271|4524|4740|              5096|5174|5186|5192|             5642|              5777|6012|6017|6402|6862|7488|7841|7867|8043|8277|8540|9164|              9403|9573|9641|9686|9969|10013|10374|10446|            10615|             10938|11255|11386|11829|             12399|13594|             13805|13937|14397|            14485|15453|15699|16149|             16235|16577|16716|16969|17250|             17264|            17309|17344|17398|17485|17815|18228|18256|18332|             18493|18555|             18727|18858|18859|18860|19064|19192|19446|19481|19708|19921|\n",
      "+------------+----+----+-----------------+----+----+----+----+----+----+------------------+----+------------------+------------------+------------------+----+----+------------------+----+----+------------------+----+----+----+-----------------+------------------+----+----+----+----+----+----+----+----+----+----+----+------------------+----+----+----+----+-----+-----+-----+-----------------+------------------+-----+-----+-----+------------------+-----+------------------+-----+-----+-----------------+-----+-----+-----+------------------+-----+-----+-----+-----+------------------+-----------------+-----+-----+-----+-----+-----+-----+-----+------------------+-----+------------------+-----+-----+-----+-----+-----+-----+-----+-----+-----+\n",
      "|      platos|null|null|             null|null|null|null|null|null|null|              null|null|2.3871171286490944|              null|              null|null|null|              null|null|null|              null|null|null|null|             null|              null|null|null|null|null|null|null|null|null|null|null|null|              null|null|null|null|null| null| null| null|             null|              null| null| null| null|              null| null|              null| null| null|             null| null| null| null|              null| null| null| null| null|              null|             null| null| null| null| null| null| null| null|              null| null|              null| null| null| null| null| null| null| null| null| null|\n",
      "|      hostal|null|null|             null|null|null|null|null|null|null|              null|null|              null|              null|              null|null|null|              null|null|null|              null|null|null|null|             null|              null|null|null|null|null|null|null|null|null|null|null|null|              null|null|null|null|null| null| null| null|             null|              null| null| null| null|              null| null|              null| null| null|2.030555554090451| null| null| null|              null| null| null| null| null|              null|             null| null| null| null| null| null| null| null|              null| null|              null| null| null| null| null| null| null| null| null| null|\n",
      "|       creak|null|null|             null|null|null|null|null|null|null|1.9456899113517734|null|              null|              null|              null|null|null|              null|null|null|              null|null|null|null|             null|              null|null|null|null|null|null|null|null|null|null|null|null|              null|null|null|null|null| null| null| null|             null|              null| null| null| null|              null| null|              null| null| null|             null| null| null| null|              null| null| null| null| null|              null|             null| null| null| null| null| null| null| null|              null| null|              null| null| null| null| null| null| null| null| null| null|\n",
      "|commonwealth|null|null|             null|null|null|null|null|null|null|              null|null|              null|              null|              null|null|null|              null|null|null|              null|null|null|null|             null|              null|null|null|null|null|null|null|null|null|null|null|null|              null|null|null|null|null| null| null| null|             null|              null| null| null| null|1.9170478505748128| null|              null| null| null|             null| null| null| null|              null| null| null| null| null|              null|             null| null| null| null| null| null| null| null|              null| null|              null| null| null| null| null| null| null| null| null| null|\n",
      "|    domenico|null|null|             null|null|null|null|null|null|null|              null|null|              null|              null|              null|null|null|              null|null|null|              null|null|null|null|             null|              null|null|null|null|null|null|null|null|null|null|null|null|              null|null|null|null|null| null| null| null|1.718724332627348|              null| null| null| null|              null| null|              null| null| null|             null| null| null| null|              null| null| null| null| null|              null|             null| null| null| null| null| null| null| null|              null| null|              null| null| null| null| null| null| null| null| null| null|\n",
      "|     vehicle|null|null|1.623706427111965|null|null|null|null|null|null|              null|null|              null|              null|              null|null|null|              null|null|null|              null|null|null|null|             null|              null|null|null|null|null|null|null|null|null|null|null|null|              null|null|null|null|null| null| null| null|             null|              null| null| null| null|              null| null|              null| null| null|             null| null| null| null|              null| null| null| null| null|              null|             null| null| null| null| null| null| null| null|              null| null|              null| null| null| null| null| null| null| null| null| null|\n",
      "|     avenida|null|null|             null|null|null|null|null|null|null|              null|null|              null|              null|              null|null|null|              null|null|null|              null|null|null|null|1.571539239572458|              null|null|null|null|null|null|null|null|null|null|null|null|              null|null|null|null|null| null| null| null|             null|              null| null| null| null|              null| null|              null| null| null|             null| null| null| null|              null| null| null| null| null|              null|             null| null| null| null| null| null| null| null|              null| null|              null| null| null| null| null| null| null| null| null| null|\n",
      "|      adagio|null|null|             null|null|null|null|null|null|null|              null|null|              null|              null|              null|null|null|              null|null|null|              null|null|null|null|             null|              null|null|null|null|null|null|null|null|null|null|null|null|              null|null|null|null|null| null| null| null|             null|              null| null| null| null|              null| null|1.5463847754226854| null| null|             null| null| null| null|              null| null| null| null| null|              null|             null| null| null| null| null| null| null| null|              null| null|              null| null| null| null| null| null| null| null| null| null|\n",
      "|       metti|null|null|             null|null|null|null|null|null|null|              null|null|              null|              null|              null|null|null|              null|null|null|              null|null|null|null|             null|1.4322702771894569|null|null|null|null|null|null|null|null|null|null|null|              null|null|null|null|null| null| null| null|             null|              null| null| null| null|              null| null|              null| null| null|             null| null| null| null|              null| null| null| null| null|              null|             null| null| null| null| null| null| null| null|              null| null|              null| null| null| null| null| null| null| null| null| null|\n",
      "|     miramar|null|null|             null|null|null|null|null|null|null|              null|null|              null|              null|              null|null|null|              null|null|null|              null|null|null|null|             null|              null|null|null|null|null|null|null|null|null|null|null|null|              null|null|null|null|null| null| null| null|             null|              null| null| null| null|              null| null|              null| null| null|             null| null| null| null|1.4163017405004632| null| null| null| null|              null|             null| null| null| null| null| null| null| null|              null| null|              null| null| null| null| null| null| null| null| null| null|\n",
      "|     aviatic|null|null|             null|null|null|null|null|null|null|              null|null|              null|              null|              null|null|null|              null|null|null|1.3957997393741775|null|null|null|             null|              null|null|null|null|null|null|null|null|null|null|null|null|              null|null|null|null|null| null| null| null|             null|              null| null| null| null|              null| null|              null| null| null|             null| null| null| null|              null| null| null| null| null|              null|             null| null| null| null| null| null| null| null|              null| null|              null| null| null| null| null| null| null| null| null| null|\n",
      "|         h10|null|null|             null|null|null|null|null|null|null|              null|null|              null|              null|              null|null|null|              null|null|null|              null|null|null|null|             null|              null|null|null|null|null|null|null|null|null|null|null|null|              null|null|null|null|null| null| null| null|             null|              null| null| null| null|              null| null|              null| null| null|             null| null| null| null|              null| null| null| null| null|              null|1.391746297880417| null| null| null| null| null| null| null|              null| null|              null| null| null| null| null| null| null| null| null| null|\n",
      "| wagenstraat|null|null|             null|null|null|null|null|null|null|              null|null|              null|              null|              null|null|null|              null|null|null|              null|null|null|null|             null|              null|null|null|null|null|null|null|null|null|null|null|null|1.3860680101833451|null|null|null|null| null| null| null|             null|              null| null| null| null|              null| null|              null| null| null|             null| null| null| null|              null| null| null| null| null|              null|             null| null| null| null| null| null| null| null|              null| null|              null| null| null| null| null| null| null| null| null| null|\n",
      "|    regencia|null|null|             null|null|null|null|null|null|null|              null|null|              null|              null|              null|null|null|              null|null|null|              null|null|null|null|             null|              null|null|null|null|null|null|null|null|null|null|null|null|              null|null|null|null|null| null| null| null|             null|1.3738329897887702| null| null| null|              null| null|              null| null| null|             null| null| null| null|              null| null| null| null| null|              null|             null| null| null| null| null| null| null| null|              null| null|              null| null| null| null| null| null| null| null| null| null|\n",
      "|      parrot|null|null|             null|null|null|null|null|null|null|              null|null|              null|              null|1.3668307528187285|null|null|              null|null|null|              null|null|null|null|             null|              null|null|null|null|null|null|null|null|null|null|null|null|              null|null|null|null|null| null| null| null|             null|              null| null| null| null|              null| null|              null| null| null|             null| null| null| null|              null| null| null| null| null|              null|             null| null| null| null| null| null| null| null|              null| null|              null| null| null| null| null| null| null| null| null| null|\n",
      "|   recidence|null|null|             null|null|null|null|null|null|null|              null|null|              null|              null|              null|null|null|              null|null|null|              null|null|null|null|             null|              null|null|null|null|null|null|null|null|null|null|null|null|              null|null|null|null|null| null| null| null|             null|              null| null| null| null|              null| null|              null| null| null|             null| null| null| null|              null| null| null| null| null|              null|             null| null| null| null| null| null| null| null|              null| null|1.3640669306566253| null| null| null| null| null| null| null| null| null|\n",
      "|      isreal|null|null|             null|null|null|null|null|null|null|              null|null|              null|1.3640669306566253|              null|null|null|              null|null|null|              null|null|null|null|             null|              null|null|null|null|null|null|null|null|null|null|null|null|              null|null|null|null|null| null| null| null|             null|              null| null| null| null|              null| null|              null| null| null|             null| null| null| null|              null| null| null| null| null|              null|             null| null| null| null| null| null| null| null|              null| null|              null| null| null| null| null| null| null| null| null| null|\n",
      "|    draycott|null|null|             null|null|null|null|null|null|null|              null|null|              null|              null|              null|null|null|1.3579088941571589|null|null|              null|null|null|null|             null|              null|null|null|null|null|null|null|null|null|null|null|null|              null|null|null|null|null| null| null| null|             null|              null| null| null| null|              null| null|              null| null| null|             null| null| null| null|              null| null| null| null| null|              null|             null| null| null| null| null| null| null| null|              null| null|              null| null| null| null| null| null| null| null| null| null|\n",
      "|         pas|null|null|             null|null|null|null|null|null|null|              null|null|              null|              null|              null|null|null|              null|null|null|              null|null|null|null|             null|              null|null|null|null|null|null|null|null|null|null|null|null|              null|null|null|null|null| null| null| null|             null|              null| null| null| null|              null| null|              null| null| null|             null| null| null| null|              null| null| null| null| null|1.3322702771894568|             null| null| null| null| null| null| null| null|              null| null|              null| null| null| null| null| null| null| null| null| null|\n",
      "|   animation|null|null|             null|null|null|null|null|null|null|              null|null|              null|              null|              null|null|null|              null|null|null|              null|null|null|null|             null|              null|null|null|null|null|null|null|null|null|null|null|null|              null|null|null|null|null| null| null| null|             null|              null| null| null| null|              null| null|              null| null| null|             null| null| null| null|              null| null| null| null| null|              null|             null| null| null| null| null| null| null| null|1.3314005039808303| null|              null| null| null| null| null| null| null| null| null| null|\n",
      "+------------+----+----+-----------------+----+----+----+----+----+----+------------------+----+------------------+------------------+------------------+----+----+------------------+----+----+------------------+----+----+----+-----------------+------------------+----+----+----+----+----+----+----+----+----+----+----+------------------+----+----+----+----+-----+-----+-----+-----------------+------------------+-----+-----+-----+------------------+-----+------------------+-----+-----+-----------------+-----+-----+-----+------------------+-----+-----+-----+-----+------------------+-----------------+-----+-----+-----+-----+-----+-----+-----+------------------+-----+------------------+-----+-----+-----+-----+-----+-----+-----+-----+-----+\n",
      "only showing top 20 rows\n",
      "\n"
     ]
    }
   ],
   "source": [
    "tf_idf\\\n",
    ".groupBy('Token')\\\n",
    ".pivot('RowID')\\\n",
    ".agg(F.first(F.col('TFIDF')))\\\n",
    ".show()"
   ]
  },
  {
   "cell_type": "code",
   "execution_count": null,
   "metadata": {},
   "outputs": [],
   "source": []
  }
 ],
 "metadata": {
  "kernelspec": {
   "display_name": "pyspark-[master-local]-[hdfs]",
   "language": "python",
   "name": "pyspark-master-local-hdfs"
  },
  "language_info": {
   "codemirror_mode": {
    "name": "ipython",
    "version": 3
   },
   "file_extension": ".py",
   "mimetype": "text/x-python",
   "name": "python",
   "nbconvert_exporter": "python",
   "pygments_lexer": "ipython3",
   "version": "3.6.9"
  }
 },
 "nbformat": 4,
 "nbformat_minor": 4
}
